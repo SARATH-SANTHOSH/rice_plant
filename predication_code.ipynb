{
 "cells": [
  {
   "cell_type": "code",
   "execution_count": 3,
   "id": "f32b9507",
   "metadata": {},
   "outputs": [
    {
     "name": "stdout",
     "output_type": "stream",
     "text": [
      "Collecting flask-sqlalchemy\n",
      "  Using cached flask_sqlalchemy-3.1.1-py3-none-any.whl.metadata (3.4 kB)\n",
      "Requirement already satisfied: flask>=2.2.5 in /Users/macbook/miniconda3/envs/rice/lib/python3.10/site-packages (from flask-sqlalchemy) (3.1.0)\n",
      "Collecting sqlalchemy>=2.0.16 (from flask-sqlalchemy)\n",
      "  Using cached SQLAlchemy-2.0.36-cp310-cp310-macosx_11_0_arm64.whl.metadata (9.7 kB)\n",
      "Requirement already satisfied: Werkzeug>=3.1 in /Users/macbook/miniconda3/envs/rice/lib/python3.10/site-packages (from flask>=2.2.5->flask-sqlalchemy) (3.1.3)\n",
      "Requirement already satisfied: Jinja2>=3.1.2 in /Users/macbook/miniconda3/envs/rice/lib/python3.10/site-packages (from flask>=2.2.5->flask-sqlalchemy) (3.1.5)\n",
      "Requirement already satisfied: itsdangerous>=2.2 in /Users/macbook/miniconda3/envs/rice/lib/python3.10/site-packages (from flask>=2.2.5->flask-sqlalchemy) (2.2.0)\n",
      "Requirement already satisfied: click>=8.1.3 in /Users/macbook/miniconda3/envs/rice/lib/python3.10/site-packages (from flask>=2.2.5->flask-sqlalchemy) (8.1.8)\n",
      "Requirement already satisfied: blinker>=1.9 in /Users/macbook/miniconda3/envs/rice/lib/python3.10/site-packages (from flask>=2.2.5->flask-sqlalchemy) (1.9.0)\n",
      "Requirement already satisfied: typing-extensions>=4.6.0 in /Users/macbook/miniconda3/envs/rice/lib/python3.10/site-packages (from sqlalchemy>=2.0.16->flask-sqlalchemy) (4.12.2)\n",
      "Requirement already satisfied: MarkupSafe>=2.0 in /Users/macbook/miniconda3/envs/rice/lib/python3.10/site-packages (from Jinja2>=3.1.2->flask>=2.2.5->flask-sqlalchemy) (3.0.2)\n",
      "Downloading flask_sqlalchemy-3.1.1-py3-none-any.whl (25 kB)\n",
      "Downloading SQLAlchemy-2.0.36-cp310-cp310-macosx_11_0_arm64.whl (2.1 MB)\n",
      "\u001b[2K   \u001b[90m━━━━━━━━━━━━━━━━━━━━━━━━━━━━━━━━━━━━━━━━\u001b[0m \u001b[32m2.1/2.1 MB\u001b[0m \u001b[31m3.3 MB/s\u001b[0m eta \u001b[36m0:00:00\u001b[0ma \u001b[36m0:00:01\u001b[0m\n",
      "\u001b[?25hInstalling collected packages: sqlalchemy, flask-sqlalchemy\n",
      "Successfully installed flask-sqlalchemy-3.1.1 sqlalchemy-2.0.36\n",
      "Note: you may need to restart the kernel to use updated packages.\n"
     ]
    }
   ],
   "source": [
    "%pip install flask-sqlalchemy\n"
   ]
  },
  {
   "cell_type": "code",
   "execution_count": 3,
   "id": "f33198c6",
   "metadata": {},
   "outputs": [
    {
     "name": "stdout",
     "output_type": "stream",
     "text": [
      "1/1 [==============================] - 0s 64ms/step\n",
      "Predicted Disease: Brownspot\n",
      "Confidence: 99.52%\n"
     ]
    }
   ],
   "source": [
    "import tensorflow as tf\n",
    "from tensorflow.keras.preprocessing import image\n",
    "import numpy as np\n",
    "\n",
    "\n",
    "model = tf.keras.models.load_model(\"rice_disease_model.h5\")\n",
    "\n",
    "\n",
    "class_labels = np.load(\"class_labels.npy\", allow_pickle=True).item()\n",
    "\n",
    "\n",
    "def predict_disease(image_path):\n",
    "    \n",
    "    img = image.load_img(image_path, target_size=(150, 150))\n",
    "    img_array = image.img_to_array(img)\n",
    "    img_array = np.expand_dims(img_array, axis=0)\n",
    "    img_array /= 255.0\n",
    "\n",
    "    \n",
    "    predictions = model.predict(img_array)\n",
    "    predicted_class = np.argmax(predictions, axis=1)\n",
    "    confidence = np.max(predictions) * 100\n",
    "\n",
    "    \n",
    "    predicted_label = class_labels[predicted_class[0]]\n",
    "    print(f\"Predicted Disease: {predicted_label}\")\n",
    "    print(f\"Confidence: {confidence:.2f}%\")\n",
    "\n",
    "\n",
    "image_path = \"paddy1.jpg\"  \n",
    "predict_disease(image_path)"
   ]
  },
  {
   "cell_type": "code",
   "execution_count": 1,
   "id": "62018ba4",
   "metadata": {},
   "outputs": [
    {
     "name": "stderr",
     "output_type": "stream",
     "text": [
      "WARNING:absl:Compiled the loaded model, but the compiled metrics have yet to be built. `model.compile_metrics` will be empty until you train or evaluate the model.\n"
     ]
    },
    {
     "name": "stdout",
     "output_type": "stream",
     "text": [
      "\u001b[1m1/1\u001b[0m \u001b[32m━━━━━━━━━━━━━━━━━━━━\u001b[0m\u001b[37m\u001b[0m \u001b[1m0s\u001b[0m 51ms/step\n",
      "No disease detected with sufficient confidence.\n",
      "Highest Confidence: 57.60%\n"
     ]
    }
   ],
   "source": [
    "import tensorflow as tf\n",
    "from tensorflow.keras.preprocessing import image\n",
    "import numpy as np\n",
    "\n",
    "\n",
    "model = tf.keras.models.load_model(\"rice_disease_model.h5\")\n",
    "\n",
    "class_labels = np.load(\"class_labels.npy\", allow_pickle=True).item()\n",
    "\n",
    "def predict_disease(image_path, confidence_threshold=99):\n",
    "    \"\"\"\n",
    "    Predicts the disease in the plant image. If the confidence is below the threshold, \n",
    "    it reports no disease detected.\n",
    "\n",
    "    :param image_path: Path to the plant image file.\n",
    "    :param confidence_threshold: Minimum confidence (%) to report a disease.\n",
    "    \"\"\"\n",
    "    \n",
    "    img = image.load_img(image_path, target_size=(150, 150))\n",
    "    img_array = image.img_to_array(img)\n",
    "    img_array = np.expand_dims(img_array, axis=0)\n",
    "    img_array /= 255.0\n",
    "\n",
    "   \n",
    "    predictions = model.predict(img_array)\n",
    "    predicted_class = np.argmax(predictions, axis=1)\n",
    "    confidence = np.max(predictions) * 100\n",
    "\n",
    "    # Get the label or report no disease detected\n",
    "    if confidence >= confidence_threshold:\n",
    "        predicted_label = class_labels[predicted_class[0]]\n",
    "        print(f\"Predicted Disease: {predicted_label}\")\n",
    "        print(f\"Confidence: {confidence:.2f}%\")\n",
    "    else:\n",
    "        print(\"No disease detected with sufficient confidence.\")\n",
    "        print(f\"Highest Confidence: {confidence:.2f}%\")\n",
    "\n",
    "# Test with an image\n",
    "image_path = \"notpaddy.jpeg\"  # Replace with the path to your test image\n",
    "predict_disease(image_path)"
   ]
  },
  {
   "cell_type": "code",
   "execution_count": null,
   "id": "52cfb58b",
   "metadata": {},
   "outputs": [],
   "source": []
  }
 ],
 "metadata": {
  "kernelspec": {
   "display_name": "rice",
   "language": "python",
   "name": "python3"
  },
  "language_info": {
   "codemirror_mode": {
    "name": "ipython",
    "version": 3
   },
   "file_extension": ".py",
   "mimetype": "text/x-python",
   "name": "python",
   "nbconvert_exporter": "python",
   "pygments_lexer": "ipython3",
   "version": "3.10.0"
  }
 },
 "nbformat": 4,
 "nbformat_minor": 5
}
