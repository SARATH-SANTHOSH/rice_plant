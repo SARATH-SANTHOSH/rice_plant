{
 "cells": [
  {
   "cell_type": "code",
   "execution_count": 1,
   "id": "1c83b7ad",
   "metadata": {
    "_cell_guid": "b1076dfc-b9ad-4769-8c92-a6c4dae69d19",
    "_uuid": "8f2839f25d086af736a60e9eeb907d3b93b6e0e5",
    "execution": {
     "iopub.execute_input": "2024-11-12T01:58:27.275676Z",
     "iopub.status.busy": "2024-11-12T01:58:27.275299Z",
     "iopub.status.idle": "2024-11-12T01:59:36.895352Z",
     "shell.execute_reply": "2024-11-12T01:59:36.894272Z"
    },
    "papermill": {
     "duration": 69.628066,
     "end_time": "2024-11-12T01:59:36.899111",
     "exception": false,
     "start_time": "2024-11-12T01:58:27.271045",
     "status": "completed"
    },
    "tags": []
   },
   "outputs": [
    {
     "name": "stdout",
     "output_type": "stream",
     "text": [
      "Number of All Image:  7696\n",
      "\n",
      "\n",
      "Number of X Test Image:  1540\n",
      "Number of Y Test Label:  1540\n",
      "\n",
      "\n",
      "Number of X Train Image:  4924\n",
      "Number of Y Train Label:  4924\n",
      "\n",
      "\n",
      "Number of X Validation Image:  1232\n",
      "Number of Y Validation Label:  1232\n"
     ]
    }
   ],
   "source": [
    "import numpy as np\n",
    "import cv2\n",
    "import os \n",
    "from sklearn.model_selection import train_test_split\n",
    "from sklearn.preprocessing import LabelEncoder\n",
    "from tensorflow.keras.models import Sequential\n",
    "from tensorflow.keras.layers import Conv2D, MaxPooling2D, Flatten, Dense\n",
    "import matplotlib.pyplot as plt\n",
    "\n",
    "# Path to the directory containing the data\n",
    "data_dir = '/kaggle/input/rice-leaf-disease-image'  \n",
    "data_normal = '/kaggle/input/paddy-doctor/paddy-disease-classification/train_images/normal'\n",
    "\n",
    "# Path to various diseases\n",
    "disease_dirs = {\n",
    "    'Bacterialblight': os.path.join(data_dir, 'Bacterialblight'),\n",
    "    'Blast': os.path.join(data_dir, 'Blast'),\n",
    "    'Brownspot': os.path.join(data_dir, 'Brownspot'),\n",
    "    'Tungro': os.path.join(data_dir, 'Tungro'),\n",
    "    'Normal': data_normal\n",
    "}\n",
    "\n",
    "# The function loads and resizes images\n",
    "def load_and_resize_image(file_path, target_shape=(128, 128)):\n",
    "    image = cv2.imread(file_path)\n",
    "    if image is not None:\n",
    "        resized_image = cv2.resize(image, target_shape)\n",
    "        return resized_image\n",
    "    else:\n",
    "        print(f\"Không thể tải ảnh từ: {file_path}\")\n",
    "        return np.zeros((target_shape[0], target_shape[1], 3))\n",
    "\n",
    "# The function loads images from a directory and assigns labels to them\n",
    "def load_images_and_labels(directory, label_name):\n",
    "    image_files = os.listdir(directory)\n",
    "    images = []\n",
    "    labels = []\n",
    "    for file in image_files:\n",
    "        if file.endswith('.jpg') or file.endswith('.JPG'):\n",
    "            image_path = os.path.join(directory, file)\n",
    "            image = load_and_resize_image(image_path)\n",
    "            images.append(image)\n",
    "            labels.append(label_name)  # Gán tên loại bệnh\n",
    "    return np.array(images), np.array(labels)\n",
    "\n",
    "# Load and label image layers\n",
    "images_Bacterialblight, labels_Bacterialblight = load_images_and_labels(os.path.join(data_dir, 'Bacterialblight'), 'Bacterialblight')\n",
    "images_Blast, labels_Blast = load_images_and_labels(os.path.join(data_dir, 'Blast'), 'Blast')\n",
    "images_Brownspot, labels_Brownspot = load_images_and_labels(os.path.join(data_dir, 'Brownspot'), 'Brownspot')\n",
    "images_Tungro, labels_Tungro = load_images_and_labels(os.path.join(data_dir, 'Tungro'), 'Tungro')\n",
    "images_Normal, labels_Normal = load_images_and_labels(os.path.join(data_normal), 'Normal')\n",
    "\n",
    "# Join data sets together\n",
    "images = np.concatenate([images_Bacterialblight, images_Blast, images_Brownspot, images_Tungro, images_Normal])\n",
    "labels = np.concatenate([labels_Bacterialblight, labels_Blast, labels_Brownspot, labels_Tungro, labels_Normal])\n",
    "\n",
    "# Convert labels to numbers\n",
    "label_encoder = LabelEncoder()\n",
    "labels_encoded = label_encoder.fit_transform(labels)\n",
    "\n",
    "# Divide the data into training set, validation set, and test set\n",
    "X_train, X_test, y_train, y_test = train_test_split(images, labels_encoded, test_size=0.2, random_state=42)\n",
    "X_train, X_val, y_train, y_val = train_test_split(X_train, y_train, test_size=0.2, random_state=42)\n",
    "\n",
    "print(\"Number of All Image: \",len(images))\n",
    "print(\"\\n\")\n",
    "print(\"Number of X Test Image: \",len(X_test))\n",
    "print(\"Number of Y Test Label: \",len(y_test))\n",
    "print(\"\\n\")\n",
    "print(\"Number of X Train Image: \",len(X_train))\n",
    "print(\"Number of Y Train Label: \",len(y_train))\n",
    "print(\"\\n\")\n",
    "print(\"Number of X Validation Image: \",len(X_val))\n",
    "print(\"Number of Y Validation Label: \",len(y_val))"
   ]
  },
  {
   "cell_type": "code",
   "execution_count": 2,
   "id": "cf81ede6",
   "metadata": {
    "_kg_hide-input": false,
    "execution": {
     "iopub.execute_input": "2024-11-12T01:59:36.904867Z",
     "iopub.status.busy": "2024-11-12T01:59:36.903890Z",
     "iopub.status.idle": "2024-11-12T02:02:44.303359Z",
     "shell.execute_reply": "2024-11-12T02:02:44.302404Z"
    },
    "papermill": {
     "duration": 187.474747,
     "end_time": "2024-11-12T02:02:44.375871",
     "exception": false,
     "start_time": "2024-11-12T01:59:36.901124",
     "status": "completed"
    },
    "tags": []
   },
   "outputs": [
    {
     "name": "stdout",
     "output_type": "stream",
     "text": [
      "Downloading data from https://storage.googleapis.com/tensorflow/keras-applications/resnet/resnet50_weights_tf_dim_ordering_tf_kernels_notop.h5\n",
      "\u001b[1m94765736/94765736\u001b[0m \u001b[32m━━━━━━━━━━━━━━━━━━━━\u001b[0m\u001b[37m\u001b[0m \u001b[1m1s\u001b[0m 0us/step\n",
      "Epoch 1/10\n"
     ]
    },
    {
     "name": "stderr",
     "output_type": "stream",
     "text": [
      "WARNING: All log messages before absl::InitializeLog() is called are written to STDERR\n",
      "I0000 00:00:1731376811.151030      67 service.cc:145] XLA service 0x780f48009f60 initialized for platform CUDA (this does not guarantee that XLA will be used). Devices:\n",
      "I0000 00:00:1731376811.151086      67 service.cc:153]   StreamExecutor device (0): Tesla T4, Compute Capability 7.5\n",
      "I0000 00:00:1731376811.151090      67 service.cc:153]   StreamExecutor device (1): Tesla T4, Compute Capability 7.5\n",
      "WARNING: All log messages before absl::InitializeLog() is called are written to STDERR\n",
      "I0000 00:00:1731376832.490579      67 asm_compiler.cc:369] ptxas warning : Registers are spilled to local memory in function 'loop_add_subtract_fusion_25', 20 bytes spill stores, 20 bytes spill loads\n",
      "\n",
      "I0000 00:00:1731376832.531556      67 device_compiler.h:188] Compiled cluster using XLA!  This line is logged at most once for the lifetime of the process.\n"
     ]
    },
    {
     "name": "stdout",
     "output_type": "stream",
     "text": [
      "\u001b[1m154/154\u001b[0m \u001b[32m━━━━━━━━━━━━━━━━━━━━\u001b[0m\u001b[37m\u001b[0m \u001b[1m93s\u001b[0m 269ms/step - accuracy: 0.8032 - loss: 0.6230 - val_accuracy: 0.5487 - val_loss: 10.4416\n",
      "Epoch 2/10\n",
      "\u001b[1m154/154\u001b[0m \u001b[32m━━━━━━━━━━━━━━━━━━━━\u001b[0m\u001b[37m\u001b[0m \u001b[1m16s\u001b[0m 105ms/step - accuracy: 0.9138 - loss: 0.3326 - val_accuracy: 0.7614 - val_loss: 1.3884\n",
      "Epoch 3/10\n",
      "\u001b[1m154/154\u001b[0m \u001b[32m━━━━━━━━━━━━━━━━━━━━\u001b[0m\u001b[37m\u001b[0m \u001b[1m16s\u001b[0m 106ms/step - accuracy: 0.9734 - loss: 0.0841 - val_accuracy: 0.9407 - val_loss: 0.1944\n",
      "Epoch 4/10\n",
      "\u001b[1m154/154\u001b[0m \u001b[32m━━━━━━━━━━━━━━━━━━━━\u001b[0m\u001b[37m\u001b[0m \u001b[1m17s\u001b[0m 108ms/step - accuracy: 0.9670 - loss: 0.1023 - val_accuracy: 0.9854 - val_loss: 0.0427\n",
      "Epoch 5/10\n",
      "\u001b[1m154/154\u001b[0m \u001b[32m━━━━━━━━━━━━━━━━━━━━\u001b[0m\u001b[37m\u001b[0m \u001b[1m17s\u001b[0m 109ms/step - accuracy: 0.9847 - loss: 0.0536 - val_accuracy: 0.9196 - val_loss: 0.3812\n",
      "Epoch 6/10\n",
      "\u001b[1m154/154\u001b[0m \u001b[32m━━━━━━━━━━━━━━━━━━━━\u001b[0m\u001b[37m\u001b[0m \u001b[1m21s\u001b[0m 111ms/step - accuracy: 0.9823 - loss: 0.0470 - val_accuracy: 0.9683 - val_loss: 0.1063\n",
      "\u001b[1m49/49\u001b[0m \u001b[32m━━━━━━━━━━━━━━━━━━━━\u001b[0m\u001b[37m\u001b[0m \u001b[1m3s\u001b[0m 70ms/step - accuracy: 0.9688 - loss: 0.1149\n",
      "\n",
      "Accuracy of ResNet50 on the test set: 0.96688312292099\n"
     ]
    }
   ],
   "source": [
    "from tensorflow.keras.applications import ResNet50\n",
    "from tensorflow.keras.layers import GlobalAveragePooling2D\n",
    "from tensorflow.keras.callbacks import  EarlyStopping\n",
    "\n",
    "# Initialize the ResNet50 model\n",
    "resnet_model = Sequential([\n",
    "    ResNet50(weights='imagenet', include_top=False, input_shape=(128, 128, 3)),\n",
    "    GlobalAveragePooling2D(),\n",
    "    Dense(128, activation='relu'),\n",
    "    Dense(5, activation='softmax')\n",
    "])\n",
    "\n",
    "# Compile the model\n",
    "resnet_model.compile(optimizer='adam',\n",
    "                     loss='sparse_categorical_crossentropy',\n",
    "                     metrics=['accuracy'])\n",
    "\n",
    "early_stopping_monitor = EarlyStopping(patience = 2)\n",
    "epochs = 10\n",
    "\n",
    "# Model training\n",
    "history_resnet = resnet_model.fit(X_train, y_train, epochs = epochs, validation_data=(X_val, y_val), callbacks = [early_stopping_monitor])\n",
    "\n",
    "# Evaluate the model on the test set\n",
    "test_loss_resnet, test_accuracy_resnet = resnet_model.evaluate(X_test, y_test)\n",
    "print(\"\\nAccuracy of ResNet50 on the test set:\", test_accuracy_resnet)"
   ]
  }
 ],
 "metadata": {
  "kaggle": {
   "accelerator": "nvidiaTeslaT4",
   "dataSources": [
    {
     "datasetId": 2427677,
     "sourceId": 4106001,
     "sourceType": "datasetVersion"
    },
    {
     "datasetId": 4245440,
     "sourceId": 7316033,
     "sourceType": "datasetVersion"
    }
   ],
   "dockerImageVersionId": 30786,
   "isGpuEnabled": true,
   "isInternetEnabled": true,
   "language": "python",
   "sourceType": "notebook"
  },
  "kernelspec": {
   "display_name": "Python 3 (ipykernel)",
   "language": "python",
   "name": "python3"
  },
  "language_info": {
   "codemirror_mode": {
    "name": "ipython",
    "version": 3
   },
   "file_extension": ".py",
   "mimetype": "text/x-python",
   "name": "python",
   "nbconvert_exporter": "python",
   "pygments_lexer": "ipython3",
   "version": "3.11.5"
  },
  "papermill": {
   "default_parameters": {},
   "duration": 262.783917,
   "end_time": "2024-11-12T02:02:47.330464",
   "environment_variables": {},
   "exception": null,
   "input_path": "__notebook__.ipynb",
   "output_path": "__notebook__.ipynb",
   "parameters": {},
   "start_time": "2024-11-12T01:58:24.546547",
   "version": "2.6.0"
  }
 },
 "nbformat": 4,
 "nbformat_minor": 5
}
